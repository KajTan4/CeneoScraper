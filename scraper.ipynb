{
 "cells": [
  {
   "cell_type": "markdown",
   "metadata": {},
   "source": [
    "### Import bibliotek"
   ]
  },
  {
   "cell_type": "code",
   "execution_count": 4,
   "metadata": {},
   "outputs": [],
   "source": [
    "import json\n",
    "import requests\n",
    "import os\n",
    "from bs4 import BeautifulSoup"
   ]
  },
  {
   "cell_type": "markdown",
   "metadata": {},
   "source": [
    "## Narzędzia\n"
   ]
  },
  {
   "cell_type": "code",
   "execution_count": 9,
   "metadata": {},
   "outputs": [],
   "source": [
    "def extract(ancestor, selector=None, atribute=None, many = False):\n",
    "    if selector:\n",
    "        if many:\n",
    "            if atribute:\n",
    "                return [item[atribute].strip() for item in ancestor.select(selector)]\n",
    "            return [item.text.strip() for item in ancestor.select(selector)]\n",
    "        if atribute:\n",
    "            try:\n",
    "                return ancestor.select_one(selector)[atribute].text.strip()\n",
    "            except TypeError:\n",
    "                return None\n",
    "        try:\n",
    "            return ancestor.select_one(selector).text.strip()\n",
    "        except AttributeError:\n",
    "            return None\n",
    "    if atribute:\n",
    "        try:\n",
    "            return ancestor[atribute]\n",
    "        except TypeError:\n",
    "            return None\n",
    "    return ancestor.text.strip()\n",
    "    "
   ]
  },
  {
   "cell_type": "markdown",
   "metadata": {},
   "source": [
    "### Pobieranie ze strony Ceneo.pl opinii o konkretnym produkcie"
   ]
  },
  {
   "cell_type": "code",
   "execution_count": 8,
   "metadata": {},
   "outputs": [],
   "source": [
    "with open(\"./headers.json\",\"r\") as jf:\n",
    "    headers = json.load(jf)"
   ]
  },
  {
   "cell_type": "code",
   "execution_count": null,
   "metadata": {},
   "outputs": [],
   "source": [
    "product_id = \"84514582\"\n",
    "next_page = f\"https://www.ceneo.pl/{product_id}#tab=reviews\"\n",
    "all_reviews = []\n",
    "while next_page:\n",
    "    response = requests.get(next_page)\n",
    "    print(next_page)\n",
    "    if response.status_code == 200:\n",
    "        page_dom = BeautifulSoup(response.text, \"html.parser\")\n",
    "        reviews = page_dom.select(\"div.js_product-review:not(.user-post--highlight)\")\n",
    "        print(len(reviews))\n",
    "    for review in reviews:\n",
    "        try:\n",
    "            single_review = {\n",
    "                key:extract(review,value)\n",
    "                for key, value in review_scheme.items()\n",
    "            }\n",
    "            all_reviews.append(single_review)\n",
    "\n",
    "        except (AttributeError, TypeError):\n",
    "            pass\n",
    "    try:\n",
    "        next_page = \"htttps://www.ceneo.pl\" + extract(page_dom, \"a.pagination_next\",\"href\")\n",
    "    except TypeError:\n",
    "        next_page = None\n",
    "print(all_reviews)\n",
    "\n",
    "    "
   ]
  },
  {
   "cell_type": "code",
   "execution_count": 18,
   "metadata": {},
   "outputs": [],
   "source": [
    "review_scheme = {\n",
    "                \"review_id\": (None,'data-entry-id'),\n",
    "                \"author\": (\"span.user-post__author-name\"),\n",
    "                \"recomendation\": (\"span.user-post__author-recomendation > em\"),\n",
    "                \"stars\": (\"span.user-post__score-count\"),\n",
    "                \"content\" : (\"div.user-post__text\"),\n",
    "                \"pros\": (\"div.review-feature__item--positive\",None,True),\n",
    "                \"cons\": (\"div.review-feature__item--negative\",None,True),\n",
    "                \"likes\" :(\"button.vote-yes > span\"),\n",
    "                \"dislikes\" : (\"button.vote-no > span\"),\n",
    "                \"publish_date\" : (\"span.user-post__published > time:nth-child(1)['datetime']\"),\n",
    "                \"purchase_date\" :(\"span.user-post__published > time:nth-child(2)['datetime']\"),\n",
    "            }"
   ]
  },
  {
   "cell_type": "markdown",
   "metadata": {},
   "source": [
    "Zapisanie wszystkich opinii w bazie danych"
   ]
  },
  {
   "cell_type": "code",
   "execution_count": 5,
   "metadata": {},
   "outputs": [],
   "source": [
    "if not os.path.exists(\"./opinions\"):\n",
    "    os.mkdir(\"./opinions\")\n",
    "    "
   ]
  },
  {
   "cell_type": "code",
   "execution_count": 1,
   "metadata": {},
   "outputs": [
    {
     "ename": "NameError",
     "evalue": "name 'product_id' is not defined",
     "output_type": "error",
     "traceback": [
      "\u001b[31m---------------------------------------------------------------------------\u001b[39m",
      "\u001b[31mNameError\u001b[39m                                 Traceback (most recent call last)",
      "\u001b[36mCell\u001b[39m\u001b[36m \u001b[39m\u001b[32mIn[1]\u001b[39m\u001b[32m, line 1\u001b[39m\n\u001b[32m----> \u001b[39m\u001b[32m1\u001b[39m \u001b[38;5;28;01mwith\u001b[39;00m \u001b[38;5;28mopen\u001b[39m(\u001b[33mf\u001b[39m\u001b[33m\"\u001b[39m\u001b[33m./opinions/\u001b[39m\u001b[38;5;132;01m{\u001b[39;00m\u001b[43mproduct_id\u001b[49m\u001b[38;5;132;01m}\u001b[39;00m\u001b[33m.json\u001b[39m\u001b[33m\"\u001b[39m,\u001b[33m\"\u001b[39m\u001b[33mw\u001b[39m\u001b[33m\"\u001b[39m,encoding=\u001b[33m\"\u001b[39m\u001b[33mUTF-8\u001b[39m\u001b[33m\"\u001b[39m) \u001b[38;5;28;01mas\u001b[39;00m jf:\n\u001b[32m      2\u001b[39m     json.dump(all_reviews, jf, indent=\u001b[32m4\u001b[39m, ensure_ascii=\u001b[38;5;28;01mFalse\u001b[39;00m)\n",
      "\u001b[31mNameError\u001b[39m: name 'product_id' is not defined"
     ]
    }
   ],
   "source": [
    "with open(f\"./opinions/{product_id}.json\",\"w\",encoding=\"UTF-8\") as jf:\n",
    "    json.dump(all_reviews, jf, indent=4, ensure_ascii=False)"
   ]
  }
 ],
 "metadata": {
  "kernelspec": {
   "display_name": ".venv",
   "language": "python",
   "name": "python3"
  },
  "language_info": {
   "codemirror_mode": {
    "name": "ipython",
    "version": 3
   },
   "file_extension": ".py",
   "mimetype": "text/x-python",
   "name": "python",
   "nbconvert_exporter": "python",
   "pygments_lexer": "ipython3",
   "version": "3.11.4"
  }
 },
 "nbformat": 4,
 "nbformat_minor": 2
}
