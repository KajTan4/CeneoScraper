{
 "cells": [
  {
   "cell_type": "markdown",
   "metadata": {},
   "source": [
    "# Wczytywanie bibliotek"
   ]
  },
  {
   "cell_type": "code",
   "execution_count": 33,
   "metadata": {},
   "outputs": [],
   "source": [
    "import os\n",
    "import json\n",
    "import pandas as pd\n",
    "import numpy as np\n",
    "from matplotlib import pyplot as plt\n"
   ]
  },
  {
   "cell_type": "markdown",
   "metadata": {},
   "source": [
    "# Wyświetlenie listy kodów produktów z pobranymi opiniami"
   ]
  },
  {
   "cell_type": "code",
   "execution_count": null,
   "metadata": {},
   "outputs": [],
   "source": [
    "all_names = []\n",
    "path = \"./opinions\"\n",
    "files = os.listdir(path)\n",
    "for file in files:\n",
    "    all_names.append(file[:-5])\n",
    "for j in all_names:\n",
    "    print(j)\n"
   ]
  },
  {
   "cell_type": "markdown",
   "metadata": {},
   "source": [
    "# Wczytywanie danych z pliku .json do obiektu przypominającego tabelę"
   ]
  },
  {
   "cell_type": "code",
   "execution_count": null,
   "metadata": {},
   "outputs": [],
   "source": [
    "product_id = input(\"Podaj kod produktu: \")\n",
    "reviews = pd.read_json(f\"./opinions/{product_id}.json\").set_index(\"review_id\")\n",
    "reviews \n"
   ]
  },
  {
   "cell_type": "markdown",
   "metadata": {},
   "source": [
    "# Transformacja danych"
   ]
  },
  {
   "cell_type": "code",
   "execution_count": null,
   "metadata": {},
   "outputs": [],
   "source": [
    "reviews.stars = reviews.stars.apply(lambda s: s.split(\"/\")[0].replace(\",\",\".\")).astype(float)\n",
    "reviews.likes = reviews.likes.astype(int)\n",
    "reviews.dislikes = reviews.dislikes.astype(int)\n",
    "reviews"
   ]
  },
  {
   "cell_type": "markdown",
   "metadata": {},
   "source": [
    "# Podstawowe statystyki"
   ]
  },
  {
   "cell_type": "code",
   "execution_count": null,
   "metadata": {},
   "outputs": [],
   "source": [
    "review_count = reviews.shape[0]\n",
    "pros_count = reviews.pros.astype(bool).sum()\n",
    "cons_count =  reviews.cons.astype(bool).sum()\n",
    "pros_cons_count = reviews.apply(lambda r: bool(r.pros) and bool(r.cons), axis = 1).sum()\n",
    "average_stars = round(reviews.stars.mean(),2)\n",
    "\n",
    "\n",
    "print(f'Liczba opinii o produkcie: {review_count}')\n",
    "print(f'Liczba opinii przy których podana została lista zalet: {pros_count}')\n",
    "print(f'Liczba opinii przy których podana została lista wad: {cons_count}')\n",
    "print(f'Liczba opinii przy których podana została lista zalet i  wad: {pros_cons_count}')\n",
    "print(f'Średnia ocena produktu: {average_stars}')"
   ]
  },
  {
   "cell_type": "code",
   "execution_count": null,
   "metadata": {},
   "outputs": [],
   "source": [
    "pros = reviews.pros.explode().value_counts()\n",
    "cons = reviews.cons.explode().value_counts()\n"
   ]
  },
  {
   "cell_type": "markdown",
   "metadata": {},
   "source": [
    "# Wykresy"
   ]
  },
  {
   "cell_type": "code",
   "execution_count": null,
   "metadata": {},
   "outputs": [],
   "source": [
    "recomendation = reviews.recomendation.value_counts(dropna=False).sort_index().reindex(\"Nie polecam\", \"polecam\", \"Nie mam zdania\")\n",
    "recomendation"
   ]
  },
  {
   "cell_type": "code",
   "execution_count": null,
   "metadata": {},
   "outputs": [],
   "source": [
    "recomendation.plot.pie(\n",
    "    label = \"\",\n",
    "    labels = [\"Nie polecam\", \"polecam\", \"Nie mam zdania\"],\n",
    "    autopct = lambda x: f'{x:1.2f}%' if x>0 else \"\"\n",
    "    colors = [\"pink\", \"brown\", \"violet\"]\n",
    ")"
   ]
  }
 ],
 "metadata": {
  "kernelspec": {
   "display_name": ".venv",
   "language": "python",
   "name": "python3"
  },
  "language_info": {
   "codemirror_mode": {
    "name": "ipython",
    "version": 3
   },
   "file_extension": ".py",
   "mimetype": "text/x-python",
   "name": "python",
   "nbconvert_exporter": "python",
   "pygments_lexer": "ipython3",
   "version": "3.11.4"
  }
 },
 "nbformat": 4,
 "nbformat_minor": 2
}
